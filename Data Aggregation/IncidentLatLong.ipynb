{
  "nbformat": 4,
  "nbformat_minor": 0,
  "metadata": {
    "colab": {
      "name": "IncidentLatLong.ipynb",
      "provenance": []
    },
    "kernelspec": {
      "name": "python3",
      "display_name": "Python 3"
    }
  },
  "cells": [
    {
      "cell_type": "code",
      "metadata": {
        "id": "zQEN_IoiJNbc"
      },
      "source": [
        "import requests\n",
        "import json\n",
        "import pandas as pd\n",
        "from datetime import datetime\n",
        "import pytz\n",
        "from IPython.display import HTML\n",
        "import time\n",
        "import datetime\n",
        "\n",
        "TIMEOUT = 10"
      ],
      "execution_count": 102,
      "outputs": []
    },
    {
      "cell_type": "code",
      "metadata": {
        "id": "NCV4QQKtMQj5"
      },
      "source": [
        "#api get call function for incident list\n",
        "def get_list_of_incidents(tv_host, camera_indices, pattern, username, password):\n",
        "\turl = 'https://' + str(tv_host) + '/json_post'\n",
        "\t\n",
        "\tdata = {\n",
        "\t\t'request': 'cr_get_data_files_info',\n",
        "\t\t'request_id': 2016,\n",
        "\t\t'camera_indices': camera_indices,\n",
        "\t\t'folder': 'incidents',\n",
        "\t\t'pattern': pattern,\n",
        "\t\t'host': '127.0.0.1'\n",
        "\t}\n",
        "\t\n",
        "\ttry:\n",
        "\t\tr = requests.post(url, data=json.dumps(data), auth=(username, password), verify=False, timeout=TIMEOUT)\n",
        "\t\tif r.status_code == requests.codes.ok:\n",
        "\t\t\treturn r.json()\n",
        "\texcept Exception as e:\n",
        "\t\treturn {'error': e}\n",
        "\t\t\t\n",
        "\treturn {'error': r.status_code}\n",
        "\n",
        "\n",
        "#api get call function for realtime data\n",
        "def get_realtime_data(tv_host='', username='', password=''):\n",
        "\turl = 'https://' + str(tv_host) + '/realtime_data'\n",
        "\n",
        "\ttry:\n",
        "\t\tr = requests.get(url, auth=(username,password), verify=False, timeout=TIMEOUT)\n",
        "\t\tif r.status_code == requests.codes.ok:\n",
        "\t\t\treturn r.json()\n",
        "\texcept Exception as e:\n",
        "\t\treturn {'error': e}\n",
        "\n",
        "\treturn {'error': r.status_code}"
      ],
      "execution_count": 103,
      "outputs": []
    },
    {
      "cell_type": "code",
      "metadata": {
        "id": "jEf-oPBFMc5K",
        "outputId": "6418d00e-f573-46a8-cbc4-72bc5d9e605c",
        "colab": {
          "base_uri": "https://localhost:8080/"
        }
      },
      "source": [
        "#actual api call for realtime data from TrafficVision\n",
        "r = get_realtime_data('tndemo.trafficvision.com:4443', 'HackHPC', 'TeamUser')\n",
        "\n",
        "#setting data from api call into a dataframe\n",
        "traffic = pd.DataFrame.from_dict(r['responses'])\n",
        "\n",
        "#creating separate dataframes for latitude, longitude, and camera_name from realtime_data\n",
        "cameralat = traffic[['camera_index', 'latitude']].copy()\n",
        "cameralong = traffic[['camera_index', 'longitude']].copy()\n",
        "cameraname = traffic[['camera_index', 'camera_name']].copy()\n",
        "\n",
        "#converting those data frames into dictionaries to add into the incident dataframe\n",
        "cameralatdict = cameralat.to_dict()\n",
        "cameralongdict = cameralong.to_dict()\n",
        "cameranamedict = cameraname.to_dict()"
      ],
      "execution_count": 104,
      "outputs": [
        {
          "output_type": "stream",
          "text": [
            "/usr/local/lib/python3.6/dist-packages/urllib3/connectionpool.py:847: InsecureRequestWarning: Unverified HTTPS request is being made. Adding certificate verification is strongly advised. See: https://urllib3.readthedocs.io/en/latest/advanced-usage.html#ssl-warnings\n",
            "  InsecureRequestWarning)\n"
          ],
          "name": "stderr"
        }
      ]
    },
    {
      "cell_type": "code",
      "metadata": {
        "id": "jHAeUSZ_Rol3",
        "outputId": "e4bad904-d168-4e53-b117-4f539742f4af",
        "colab": {
          "base_uri": "https://localhost:8080/",
          "height": 258
        }
      },
      "source": [
        "#actual api call for 2020 stopped incidents data from TrafficVision\n",
        "pandas_dict = {'responses': []}    \n",
        "s = get_list_of_incidents('tndemo.trafficvision.com:4443', list(range(1, 61)), '2020-10*incident_stopped*.json', 'HackHPC', 'TeamUser')\n",
        "if 'responses' in s:\n",
        "    for camera_obj in s['responses']:\n",
        "        camera_index = camera_obj['camera_index']\n",
        "        incident_entries = camera_obj['entries']\n",
        "        for entry in incident_entries:\n",
        "            pandas_dict['responses'].append({'camera_index': camera_index, 'filename': entry['filename'], 'timestamp': entry['time']})\n",
        "\n",
        "#converting api call data into a dataframe\n",
        "incidents = pd.DataFrame(pandas_dict['responses'])\n",
        "\n",
        "#adding columns to incidents from the created dictionaries for latitude, longitude, and camera_name\n",
        "incidents['Latitude'] = incidents['camera_index'].map(cameralatdict['latitude'])\n",
        "incidents['Longitude'] = incidents['camera_index'].map(cameralongdict['longitude'])\n",
        "incidents['CameraName'] = incidents['camera_index'].map(cameranamedict['camera_name'])\n",
        "\n",
        "#print incidents\n",
        "incidents.head()"
      ],
      "execution_count": 105,
      "outputs": [
        {
          "output_type": "stream",
          "text": [
            "/usr/local/lib/python3.6/dist-packages/urllib3/connectionpool.py:847: InsecureRequestWarning: Unverified HTTPS request is being made. Adding certificate verification is strongly advised. See: https://urllib3.readthedocs.io/en/latest/advanced-usage.html#ssl-warnings\n",
            "  InsecureRequestWarning)\n"
          ],
          "name": "stderr"
        },
        {
          "output_type": "execute_result",
          "data": {
            "text/html": [
              "<div>\n",
              "<style scoped>\n",
              "    .dataframe tbody tr th:only-of-type {\n",
              "        vertical-align: middle;\n",
              "    }\n",
              "\n",
              "    .dataframe tbody tr th {\n",
              "        vertical-align: top;\n",
              "    }\n",
              "\n",
              "    .dataframe thead th {\n",
              "        text-align: right;\n",
              "    }\n",
              "</style>\n",
              "<table border=\"1\" class=\"dataframe\">\n",
              "  <thead>\n",
              "    <tr style=\"text-align: right;\">\n",
              "      <th></th>\n",
              "      <th>camera_index</th>\n",
              "      <th>filename</th>\n",
              "      <th>timestamp</th>\n",
              "      <th>Latitude</th>\n",
              "      <th>Longitude</th>\n",
              "      <th>CameraName</th>\n",
              "    </tr>\n",
              "  </thead>\n",
              "  <tbody>\n",
              "    <tr>\n",
              "      <th>0</th>\n",
              "      <td>1</td>\n",
              "      <td>2020-10-02_16-15-27_incident_stopped.json</td>\n",
              "      <td>1601673327</td>\n",
              "      <td>35.0637</td>\n",
              "      <td>-90.024067</td>\n",
              "      <td>M_I-55 @ US 51, Elvis Presley - Memphis</td>\n",
              "    </tr>\n",
              "    <tr>\n",
              "      <th>1</th>\n",
              "      <td>1</td>\n",
              "      <td>2020-10-05_06-57-41_incident_stopped.json</td>\n",
              "      <td>1601899061</td>\n",
              "      <td>35.0637</td>\n",
              "      <td>-90.024067</td>\n",
              "      <td>M_I-55 @ US 51, Elvis Presley - Memphis</td>\n",
              "    </tr>\n",
              "    <tr>\n",
              "      <th>2</th>\n",
              "      <td>1</td>\n",
              "      <td>2020-10-03_14-22-38_incident_stopped.json</td>\n",
              "      <td>1601752958</td>\n",
              "      <td>35.0637</td>\n",
              "      <td>-90.024067</td>\n",
              "      <td>M_I-55 @ US 51, Elvis Presley - Memphis</td>\n",
              "    </tr>\n",
              "    <tr>\n",
              "      <th>3</th>\n",
              "      <td>1</td>\n",
              "      <td>2020-10-05_10-31-19_incident_stopped.json</td>\n",
              "      <td>1601911879</td>\n",
              "      <td>35.0637</td>\n",
              "      <td>-90.024067</td>\n",
              "      <td>M_I-55 @ US 51, Elvis Presley - Memphis</td>\n",
              "    </tr>\n",
              "    <tr>\n",
              "      <th>4</th>\n",
              "      <td>1</td>\n",
              "      <td>2020-10-07_18-24-27_incident_stopped.json</td>\n",
              "      <td>1602113067</td>\n",
              "      <td>35.0637</td>\n",
              "      <td>-90.024067</td>\n",
              "      <td>M_I-55 @ US 51, Elvis Presley - Memphis</td>\n",
              "    </tr>\n",
              "  </tbody>\n",
              "</table>\n",
              "</div>"
            ],
            "text/plain": [
              "   camera_index  ...                               CameraName\n",
              "0             1  ...  M_I-55 @ US 51, Elvis Presley - Memphis\n",
              "1             1  ...  M_I-55 @ US 51, Elvis Presley - Memphis\n",
              "2             1  ...  M_I-55 @ US 51, Elvis Presley - Memphis\n",
              "3             1  ...  M_I-55 @ US 51, Elvis Presley - Memphis\n",
              "4             1  ...  M_I-55 @ US 51, Elvis Presley - Memphis\n",
              "\n",
              "[5 rows x 6 columns]"
            ]
          },
          "metadata": {
            "tags": []
          },
          "execution_count": 105
        }
      ]
    },
    {
      "cell_type": "code",
      "metadata": {
        "id": "UkoQbMm2hXn8"
      },
      "source": [
        "#save the DataFrame to a file on the Colab backend.\n",
        "with open('incidents.json', 'w') as f:\n",
        "  f.write(incidents.to_json())"
      ],
      "execution_count": 106,
      "outputs": []
    },
    {
      "cell_type": "code",
      "metadata": {
        "id": "-GVf6yDay7Zi"
      },
      "source": [
        "#download the file.\n",
        "#from google.colab import files\n",
        "#files.download('incidents.json')"
      ],
      "execution_count": 108,
      "outputs": []
    },
    {
      "cell_type": "code",
      "metadata": {
        "id": "TsLlgTp_e-Sw"
      },
      "source": [
        "#create a dataframe with accumulated values per day\n",
        "  \n",
        "incidents['date'] = pd.to_datetime(incidents['timestamp'], unit='s')\n",
        "\n",
        "incidents['date'] = incidents[\"date\"].dt.strftime(\"%D\")"
      ],
      "execution_count": 113,
      "outputs": []
    },
    {
      "cell_type": "code",
      "metadata": {
        "id": "nxTqqbKMr5D2",
        "outputId": "64e99e11-6d5f-4280-a00f-9c8bf906aa2c",
        "colab": {
          "base_uri": "https://localhost:8080/"
        }
      },
      "source": [
        "incidents_table = incidents\n",
        "incidents_table = incidents_table.drop(['camera_index', 'filename', 'timestamp', 'Latitude', 'Longitude'], axis=1)\n",
        "\n",
        "valueCount = pd.value_counts(incidents_table['CameraName'])\n",
        "valueCount = valueCount.head(10)\n",
        "\n",
        "valueCount\n"
      ],
      "execution_count": 127,
      "outputs": [
        {
          "output_type": "execute_result",
          "data": {
            "text/plain": [
              "K_I-75 @ Callahan Rd - Knoxville               134\n",
              "C_I-24 @ S Moore Rd - Chattanooga              123\n",
              "M_I-55 north of Shelby Dr. - Memphis            82\n",
              "N_I-40 @ SR 840 JCT () (R3_202) - Nashville     80\n",
              "N_65 S/O I-840 57.4 - Memphis - Nashville       68\n",
              "C_I-24 @ Germantown Rd - Chattanooga            65\n",
              "M_I-55 @ US 51, Elvis Presley - Memphis         61\n",
              "K_I-75/640 @ Clinton Hwy - Knoxville            60\n",
              "C_I-24 West of Lookout Creek - Chattanooga      60\n",
              "K_I-40 @ I-275 - Knoxville                      59\n",
              "Name: CameraName, dtype: int64"
            ]
          },
          "metadata": {
            "tags": []
          },
          "execution_count": 127
        }
      ]
    },
    {
      "cell_type": "code",
      "metadata": {
        "id": "w2qvmz14QHSD",
        "outputId": "955f951f-a874-4ada-cf58-18f5a81737b9",
        "colab": {
          "base_uri": "https://localhost:8080/",
          "height": 17
        }
      },
      "source": [
        "HTML(\"\"\"\n",
        "<script src=\"https://code.highcharts.com/highcharts.js\"></script>\n",
        "<script src=\"https://code.highcharts.com/modules/heatmap.js\"></script>\n",
        "<script src=\"https://code.highcharts.com/modules/exporting.js\"></script>\n",
        "<script src=\"https://code.highcharts.com/modules/export-data.js\"></script>\n",
        "<script src=\"https://code.highcharts.com/modules/accessibility.js\"></script>\n",
        "<script>\n",
        "Highcharts.getJSON('Kellentest.json', function (data) {\n",
        "\n",
        "  <figure class=\"highcharts-figure\">\n",
        "      <div id=\"container\"></div>\n",
        "  </figure>\n",
        "  function getPointCategoryName(point, dimension) {\n",
        "      var series = point.series,\n",
        "          isY = dimension === 'y',\n",
        "          axis = series[isY ? 'yAxis' : 'xAxis'];\n",
        "      return axis.categories[point[isY ? 'y' : 'x']];\n",
        "  }\n",
        "\n",
        "  Highcharts.chart('container', {\n",
        "\n",
        "      chart: {\n",
        "          type: 'heatmap',\n",
        "          marginTop: 40,\n",
        "          marginBottom: 80,\n",
        "          plotBorderWidth: 1\n",
        "      },\n",
        "\n",
        "\n",
        "      title: {\n",
        "          text: 'Stopped Incidents in October (Cameras with Highest Incident Rates)'\n",
        "      },\n",
        "\n",
        "      xAxis: {\n",
        "          categories: ['K_I-75 @ Callahan Rd - Knoxville ', 'C_I-24 @ S Moore Rd - Chattanooga', 'M_I-55 north of Shelby Dr. - Memphis', 'N_I-40 @ SR 840 JCT () (R3_202) - Nashville', 'N_65 S/O I-840 57.4 - Memphis - Nashville', 'C_I-24 @ Germantown Rd - Chattanooga', 'M_I-55 @ US 51, Elvis Presley - Memphis', 'K_I-75/640 @ Clinton Hwy - Knoxville', 'C_I-24 West of Lookout Creek - Chattanooga', 'K_I-40 @ I-275 - Knoxville']\n",
        "      },\n",
        "\n",
        "      yAxis: {\n",
        "          categories: ['October'],\n",
        "          title: null,\n",
        "          reversed: true\n",
        "      },\n",
        "\n",
        "      accessibility: {\n",
        "          point: {\n",
        "              descriptionFormatter: function (point) {\n",
        "                  var ix = point.index + 1,\n",
        "                      xName = getPointCategoryName(point, 'x'),\n",
        "                      yName = getPointCategoryName(point, 'y'),\n",
        "                      val = point.value;\n",
        "                  return ix + '. ' + xName + ' sales ' + yName + ', ' + val + '.';\n",
        "              }\n",
        "          }\n",
        "      },\n",
        "\n",
        "      colorAxis: {\n",
        "          min: 0,\n",
        "          minColor: '#FFFFFF',\n",
        "          maxColor: Highcharts.getOptions().colors[0]\n",
        "      },\n",
        "\n",
        "      legend: {\n",
        "          align: 'right',\n",
        "          layout: 'vertical',\n",
        "          margin: 0,\n",
        "          verticalAlign: 'top',\n",
        "          y: 25,\n",
        "          symbolHeight: 280\n",
        "      },\n",
        "\n",
        "      tooltip: {\n",
        "          formatter: function () {\n",
        "              return '<b>' + getPointCategoryName(this.point, 'x') + '</b> registered <br><b>' +\n",
        "                  this.point.value + '</b> stopped vehicle instances in <br><b>' + getPointCategoryName(this.point, 'y') + '</b>';\n",
        "          }\n",
        "      },\n",
        "\n",
        "      series: [{\n",
        "          name: 'Sales per employee',\n",
        "          borderWidth: 1,\n",
        "          data: data,\n",
        "          \n",
        "          dataLabels: {\n",
        "              enabled: true,\n",
        "              color: '#000000'\n",
        "          }\n",
        "      }],\n",
        "\n",
        "      responsive: {\n",
        "          rules: [{\n",
        "              condition: {\n",
        "                  maxWidth: 500\n",
        "              },\n",
        "              chartOptions: {\n",
        "                  yAxis: {\n",
        "                      labels: {\n",
        "                          formatter: function () {\n",
        "                              return this.value.charAt(0);\n",
        "                          }\n",
        "                      }\n",
        "                  }\n",
        "              }\n",
        "          }]\n",
        "      }\n",
        "\n",
        "  }); \n",
        "});\n",
        "</script>\n",
        "\"\"\")"
      ],
      "execution_count": 147,
      "outputs": [
        {
          "output_type": "execute_result",
          "data": {
            "text/html": [
              "\n",
              "<script src=\"https://code.highcharts.com/highcharts.js\"></script>\n",
              "<script src=\"https://code.highcharts.com/modules/heatmap.js\"></script>\n",
              "<script src=\"https://code.highcharts.com/modules/exporting.js\"></script>\n",
              "<script src=\"https://code.highcharts.com/modules/export-data.js\"></script>\n",
              "<script src=\"https://code.highcharts.com/modules/accessibility.js\"></script>\n",
              "<script>\n",
              "Highcharts.getJSON('Kellentest.json', function (data) {\n",
              "\n",
              "  <figure class=\"highcharts-figure\">\n",
              "      <div id=\"container\"></div>\n",
              "  </figure>\n",
              "  function getPointCategoryName(point, dimension) {\n",
              "      var series = point.series,\n",
              "          isY = dimension === 'y',\n",
              "          axis = series[isY ? 'yAxis' : 'xAxis'];\n",
              "      return axis.categories[point[isY ? 'y' : 'x']];\n",
              "  }\n",
              "\n",
              "  Highcharts.chart('container', {\n",
              "\n",
              "      chart: {\n",
              "          type: 'heatmap',\n",
              "          marginTop: 40,\n",
              "          marginBottom: 80,\n",
              "          plotBorderWidth: 1\n",
              "      },\n",
              "\n",
              "\n",
              "      title: {\n",
              "          text: 'Stopped Incidents in October (Cameras with Highest Incident Rates)'\n",
              "      },\n",
              "\n",
              "      xAxis: {\n",
              "          categories: ['K_I-75 @ Callahan Rd - Knoxville ', 'C_I-24 @ S Moore Rd - Chattanooga', 'M_I-55 north of Shelby Dr. - Memphis', 'N_I-40 @ SR 840 JCT () (R3_202) - Nashville', 'N_65 S/O I-840 57.4 - Memphis - Nashville', 'C_I-24 @ Germantown Rd - Chattanooga', 'M_I-55 @ US 51, Elvis Presley - Memphis', 'K_I-75/640 @ Clinton Hwy - Knoxville', 'C_I-24 West of Lookout Creek - Chattanooga', 'K_I-40 @ I-275 - Knoxville']\n",
              "      },\n",
              "\n",
              "      yAxis: {\n",
              "          categories: ['October'],\n",
              "          title: null,\n",
              "          reversed: true\n",
              "      },\n",
              "\n",
              "      accessibility: {\n",
              "          point: {\n",
              "              descriptionFormatter: function (point) {\n",
              "                  var ix = point.index + 1,\n",
              "                      xName = getPointCategoryName(point, 'x'),\n",
              "                      yName = getPointCategoryName(point, 'y'),\n",
              "                      val = point.value;\n",
              "                  return ix + '. ' + xName + ' sales ' + yName + ', ' + val + '.';\n",
              "              }\n",
              "          }\n",
              "      },\n",
              "\n",
              "      colorAxis: {\n",
              "          min: 0,\n",
              "          minColor: '#FFFFFF',\n",
              "          maxColor: Highcharts.getOptions().colors[0]\n",
              "      },\n",
              "\n",
              "      legend: {\n",
              "          align: 'right',\n",
              "          layout: 'vertical',\n",
              "          margin: 0,\n",
              "          verticalAlign: 'top',\n",
              "          y: 25,\n",
              "          symbolHeight: 280\n",
              "      },\n",
              "\n",
              "      tooltip: {\n",
              "          formatter: function () {\n",
              "              return '<b>' + getPointCategoryName(this.point, 'x') + '</b> registered <br><b>' +\n",
              "                  this.point.value + '</b> stopped vehicle instances in <br><b>' + getPointCategoryName(this.point, 'y') + '</b>';\n",
              "          }\n",
              "      },\n",
              "\n",
              "      series: [{\n",
              "          name: 'Sales per employee',\n",
              "          borderWidth: 1,\n",
              "          data: data,\n",
              "          \n",
              "          dataLabels: {\n",
              "              enabled: true,\n",
              "              color: '#000000'\n",
              "          }\n",
              "      }],\n",
              "\n",
              "      responsive: {\n",
              "          rules: [{\n",
              "              condition: {\n",
              "                  maxWidth: 500\n",
              "              },\n",
              "              chartOptions: {\n",
              "                  yAxis: {\n",
              "                      labels: {\n",
              "                          formatter: function () {\n",
              "                              return this.value.charAt(0);\n",
              "                          }\n",
              "                      }\n",
              "                  }\n",
              "              }\n",
              "          }]\n",
              "      }\n",
              "\n",
              "  }); \n",
              "});\n",
              "</script>\n"
            ],
            "text/plain": [
              "<IPython.core.display.HTML object>"
            ]
          },
          "metadata": {
            "tags": []
          },
          "execution_count": 147
        }
      ]
    },
    {
      "cell_type": "code",
      "metadata": {
        "id": "xbx_520Nd0fR"
      },
      "source": [
        ""
      ],
      "execution_count": null,
      "outputs": []
    }
  ]
}